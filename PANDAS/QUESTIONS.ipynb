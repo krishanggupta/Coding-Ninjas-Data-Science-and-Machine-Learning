{
 "cells": [
  {
   "cell_type": "markdown",
   "id": "fce1125a",
   "metadata": {},
   "source": [
    "# INBUILT"
   ]
  },
  {
   "cell_type": "code",
   "execution_count": null,
   "id": "859cb582",
   "metadata": {},
   "outputs": [],
   "source": [
    "https://github.com/keshav-vikas/Coding_Ninjas_Data_Science_and_Machine_Learning/blob/master/4.Pandas/Pandas_Practice_problem_and_Assignment.ipynb"
   ]
  },
  {
   "cell_type": "code",
   "execution_count": null,
   "id": "8ab2276f",
   "metadata": {},
   "outputs": [],
   "source": [
    "Count of Flower\n",
    "Send Feedback\n",
    "Problem Statement\n",
    "Find and print count of each kind of flower (separated by space)?\n",
    "Note: Get the dataset from here\n",
    "Print the count as Integer Value.\n",
    "Output Format\n",
    "count1 count2 count3 ....."
   ]
  },
  {
   "cell_type": "code",
   "execution_count": null,
   "id": "f553ee3f",
   "metadata": {},
   "outputs": [],
   "source": [
    "## Open and read data file as specified in the question\n",
    "## Print the required output in given format\n",
    "import pandas as pd\n",
    "\n",
    "dataset=pd.read_csv(\"https://gist.githubusercontent.com/netj/8836201/raw/6f9306ad21398ea43cba4f7d537619d0e07d5ae3/iris.csv\")\n",
    "\n",
    "c=dataset.copy()\n",
    "\n",
    "\n",
    "# c1=c[c.variety==\"Setosa\"]\n",
    "# c2=c[c.variety==\"Versicolor\"]\n",
    "# c3=c[c.variety==\"Virginica\"]\n",
    "\n",
    "# c1=c1.describe().loc['count','sepal.length']\n",
    "# c2=c2.describe().loc['count','sepal.length']\n",
    "# c3=c3.describe().loc['count','sepal.length']\n",
    "\n",
    "# a=[c1,c2,c3]\n",
    "# for i in a:\n",
    "#     print(int(i),end=\" \")\n",
    "# print(c1,c2,c3)\n",
    "\n",
    "print(dataset['variety'].value_counts())"
   ]
  },
  {
   "cell_type": "code",
   "execution_count": null,
   "id": "05b45653",
   "metadata": {},
   "outputs": [],
   "source": []
  },
  {
   "cell_type": "code",
   "execution_count": null,
   "id": "e4630a0f",
   "metadata": {},
   "outputs": [],
   "source": [
    "Iris Virginica\n",
    "Send Feedback\n",
    "Problem Statement\n",
    "Find the data of flower “Iris-virginica” type where petal-length > 1.5?\n",
    "Note: Get the dataset from here\n",
    "Print the all the feature values.\n",
    "Output Format\n",
    "feature1 feature2 feature3 feature4 feature5\n",
    "feature1 feature2 feature3 feature4 feature5\n",
    "feature1 feature2 feature3 feature4 feature5\n",
    "feature1 feature2 feature3 feature4 feature5\n",
    ". . .\n",
    ". . .\n",
    ". . .\n"
   ]
  },
  {
   "cell_type": "code",
   "execution_count": null,
   "id": "731e7fa9",
   "metadata": {},
   "outputs": [],
   "source": [
    "# Open and read data file as specified in the question\n",
    "# Print the required output in given format\n",
    "# Open and read data file as specified in the question\n",
    "# Print the required output in given format\n",
    "\n",
    "# import pandas as pd\n",
    "\n",
    "# dataset=pd.read_csv(\"https://gist.githubusercontent.com/netj/8836201/raw/6f9306ad21398ea43cba4f7d537619d0e07d5ae3/iris.csv\")\n",
    "\n",
    "# c=dataset.copy()\n",
    "\n",
    "\n",
    "# # c1=c[c.variety==\"Setosa\"]\n",
    "# # c2=c[c.variety==\"Versicolor\"]\n",
    "# c3=c[c.variety==\"Virginica\"]\n",
    "\n",
    "\n",
    "# a='petal.length'\n",
    "# c3=c3[c3[a]>1.5]\n",
    "\n",
    "# random=c3.copy()\n",
    "\n",
    "# random=random.values\n",
    "# for i in random:\n",
    "#     print(*i)\n",
    "\n",
    "\n",
    "import pandas as pd\n",
    "data = pd.read_csv('https://files.codingninjas.in/iris-8116.csv?_ga=2.92439773.1949122142.1647111627-1204453064.1627637877')\n",
    "df = data.copy()\n",
    "df.variety.unique()\n",
    "a = df[(df['variety'] == 'Iris-virginica')]\n",
    "b = a[a['petal.length'] > 1.5]\n",
    "val = b.shape[0]\n",
    "for i in range(val):\n",
    "    print(df['sepal.length'][b.index[i]],df['sepal.width'][b.index[i]],df['petal.length'][b.index[i]],df['petal.width'][b.index[i]],df['variety'][b.index[i]])\n",
    "\n",
    "\n",
    "\n",
    "\n"
   ]
  },
  {
   "cell_type": "code",
   "execution_count": null,
   "id": "aa782905",
   "metadata": {},
   "outputs": [],
   "source": []
  },
  {
   "cell_type": "code",
   "execution_count": null,
   "id": "e36ab23a",
   "metadata": {},
   "outputs": [],
   "source": [
    "Iris Values\n",
    "Send Feedback\n",
    "Problem Statement\n",
    "Find and print the minimum, maximum and average value of the feature for each kind of flower ?\n",
    "Note: Get the dataset from here\n",
    "Print the value with two decimal places.\n",
    "Note: Order for flower is Iris-setosa, Iris-versicolor and Iris-virginica.\n",
    "Output Format\n",
    "minSL minSW minPL minPW Iris-setosa\n",
    "maxSL maxSW maxPL maxPW Iris-setosa\n",
    "avgSL avgSW avgPL avgPW Iris-setosa\n",
    ". . .\n",
    ". . .\n",
    ". . ."
   ]
  },
  {
   "cell_type": "code",
   "execution_count": null,
   "id": "7706d7af",
   "metadata": {},
   "outputs": [],
   "source": [
    "# ## Open and read data file as specified in the question\n",
    "# ## Print the required output in given format\n",
    "# import pandas as pd\n",
    "\n",
    "# data = pd.read_csv('https://files.codingninjas.in/iris-8116.csv?_ga=2.92439773.1949122142.1647111627-1204453064.1627637877')\n",
    "\n",
    "# work=data.copy()\n",
    "\n",
    "# setosa=work[work['variety']=='Iris-setosa']\n",
    "# versicolor=work[work['variety']=='Iris-versicolor']\n",
    "# virginica=work[work['variety']=='Iris-virginica']\n",
    "\n",
    "# li2=['Iris-setosa','Iris-versicolor','Iris-virginica']\n",
    "\n",
    "# li=[setosa.describe(),versicolor.describe(),virginica.describe()]\n",
    "\n",
    "\n",
    "# #min\n",
    "# #max\n",
    "# #avg\n",
    "# count=0\n",
    "# for excel in li:\n",
    "#     for i in range(4):\n",
    "#         print(\"%.2f\"%(excel.loc['min'][i]),end=\" \")    \n",
    "#     print(li2[count],end=\"\\n\")\n",
    "#     for i in range(4):\n",
    "#         print(\"%.2f\"%(excel.loc['max'][i]),end=\" \")    \n",
    "#     print(li2[count],end=\"\\n\")\n",
    "#     for i in range(4):\n",
    "#         print(\"%.2f\"%(excel.loc['mean'][i]),end=\" \")    \n",
    "#     print(li2[count])\n",
    "    \n",
    "#     count+=1\n",
    "        \n",
    "\n",
    "# #print(setosa.describe())\n",
    "# # print(versicolor.describe())\n",
    "# # print(virginica.describe())\n",
    "import pandas as pd\n",
    "import numpy as np\n",
    "columns = ['sl', 'sw', 'pl',' pw','variety']\n",
    "\n",
    "iris = pd.read_csv('https://archive.ics.uci.edu/ml/machine-learning-databases/iris/iris.data', names = columns)\n",
    "df = iris.copy()\n",
    "a = df[df['variety'] == 'Iris-setosa'].describe()\n",
    "b = df[df['variety'] == 'Iris-versicolor'].describe()\n",
    "c = df[df['variety'] == 'Iris-virginica'].describe()\n",
    "\n",
    "d = [a,b,c]\n",
    "\n",
    "x = ['Iris-setosa','Iris-versicolor', 'Iris-virginica'  ]\n",
    "s = 0\n",
    "for i in d:\n",
    "    for j in i.loc['min']:\n",
    "        print(format(j,'.2f') , end = ' ')\n",
    "    print(x[s])\n",
    "    for k in i.loc['max']:\n",
    "        print(format(k,'.2f') , end = ' ')\n",
    "    print(x[s])\n",
    "    for l in i.loc['mean']:\n",
    "        print(format(l,'.2f') , end = ' ')\n",
    "    print(x[s])\n",
    "    \n",
    "    s+=1"
   ]
  },
  {
   "cell_type": "code",
   "execution_count": null,
   "id": "3bc5c06b",
   "metadata": {},
   "outputs": [],
   "source": []
  },
  {
   "cell_type": "code",
   "execution_count": null,
   "id": "e62fc868",
   "metadata": {},
   "outputs": [],
   "source": []
  },
  {
   "cell_type": "markdown",
   "id": "4a924c5f",
   "metadata": {},
   "source": [
    "# Assignment"
   ]
  },
  {
   "cell_type": "code",
   "execution_count": null,
   "id": "7abd9e55",
   "metadata": {},
   "outputs": [],
   "source": [
    "Terror Attack City\n",
    "Send Feedback\n",
    "Given file \"terrorismData.csv\"\n",
    "It is an open-source database including information on terrorist attacks around the world from 1970 through 2017. This dataset includes systematic data on domestic as well as international terrorist incidents that have occurred during this time period\n",
    "Problem Statement :\n",
    "The Most Dangerous city in Jammu and Kashmir and the terrorist group which is most active in that city?\n",
    "Print count of number of attacks in that city as integer value.\n",
    "Note:Ignoring the Unknown Terrorist Group.Here Dangerous related with the number of terrorist attacks.\n",
    "Output Format :\n",
    "City NumberOfAttack Group"
   ]
  },
  {
   "cell_type": "markdown",
   "id": "a20082ea",
   "metadata": {},
   "source": [
    "# Ques1"
   ]
  },
  {
   "cell_type": "code",
   "execution_count": 7,
   "id": "5cf949ea",
   "metadata": {},
   "outputs": [
    {
     "name": "stderr",
     "output_type": "stream",
     "text": [
      "C:\\Users\\91956\\anaconda3\\lib\\site-packages\\IPython\\core\\interactiveshell.py:3165: DtypeWarning: Columns (3,4,5,6,9,12,13,14,15,16) have mixed types.Specify dtype option on import or set low_memory=False.\n",
      "  has_raised = await self.run_ast_nodes(code_ast.body, cell_name,\n"
     ]
    },
    {
     "name": "stdout",
     "output_type": "stream",
     "text": [
      "           Year  Month  Day             Country    State  \\\n",
      "0        1970.0    7.0  2.0  Dominican Republic      NaN   \n",
      "1        1970.0    0.0  0.0              Mexico  Federal   \n",
      "2        1970.0    1.0  0.0         Philippines   Tarlac   \n",
      "3        1970.0    1.0  0.0              Greece   Attica   \n",
      "4        1970.0    1.0  0.0               Japan  Fukouka   \n",
      "...         ...    ...  ...                 ...      ...   \n",
      "1048570     NaN    NaN  NaN                 NaN      NaN   \n",
      "1048571     NaN    NaN  NaN                 NaN      NaN   \n",
      "1048572     NaN    NaN  NaN                 NaN      NaN   \n",
      "1048573     NaN    NaN  NaN                 NaN      NaN   \n",
      "1048574     NaN    NaN  NaN                 NaN      NaN   \n",
      "\n",
      "                              Region           City   Latitude   Longitude  \\\n",
      "0        Central America & Caribbean  Santo Domingo  18.456792  -69.951164   \n",
      "1                      North America    Mexico city  19.371887  -99.086624   \n",
      "2                     Southeast Asia        Unknown  15.478598  120.599741   \n",
      "3                     Western Europe         Athens  37.997490   23.762728   \n",
      "4                          East Asia        Fukouka  33.580412  130.396361   \n",
      "...                              ...            ...        ...         ...   \n",
      "1048570                          NaN            NaN        NaN         NaN   \n",
      "1048571                          NaN            NaN        NaN         NaN   \n",
      "1048572                          NaN            NaN        NaN         NaN   \n",
      "1048573                          NaN            NaN        NaN         NaN   \n",
      "1048574                          NaN            NaN        NaN         NaN   \n",
      "\n",
      "                             AttackType  Killed  Wounded  \\\n",
      "0                         Assassination     1.0      0.0   \n",
      "1           Hostage Taking (Kidnapping)     0.0      0.0   \n",
      "2                         Assassination     1.0      0.0   \n",
      "3                     Bombing/Explosion     NaN      NaN   \n",
      "4        Facility/Infrastructure Attack     NaN      NaN   \n",
      "...                                 ...     ...      ...   \n",
      "1048570                             NaN     NaN      NaN   \n",
      "1048571                             NaN     NaN      NaN   \n",
      "1048572                             NaN     NaN      NaN   \n",
      "1048573                             NaN     NaN      NaN   \n",
      "1048574                             NaN     NaN      NaN   \n",
      "\n",
      "                          Target Summary                               Group  \\\n",
      "0                   Julio Guzman     NaN                              MANO-D   \n",
      "1        Nadine Chaval, daughter     NaN  23rd of September Communist League   \n",
      "2                       Employee     NaN                             Unknown   \n",
      "3                   U.S. Embassy     NaN                             Unknown   \n",
      "4                 U.S. Consulate     NaN                             Unknown   \n",
      "...                          ...     ...                                 ...   \n",
      "1048570                      NaN     NaN                                 NaN   \n",
      "1048571                      NaN     NaN                                 NaN   \n",
      "1048572                      NaN     NaN                                 NaN   \n",
      "1048573                      NaN     NaN                                 NaN   \n",
      "1048574                      NaN     NaN                                 NaN   \n",
      "\n",
      "                         Target_type Weapon_type  Unnamed: 17  Unnamed: 18  \\\n",
      "0        Private Citizens & Property     Unknown          NaN          NaN   \n",
      "1            Government (Diplomatic)     Unknown          NaN          NaN   \n",
      "2                Journalists & Media     Unknown          NaN          NaN   \n",
      "3            Government (Diplomatic)  Explosives          NaN          NaN   \n",
      "4            Government (Diplomatic)  Incendiary          NaN          NaN   \n",
      "...                              ...         ...          ...          ...   \n",
      "1048570                          NaN         NaN          NaN          NaN   \n",
      "1048571                          NaN         NaN          NaN          NaN   \n",
      "1048572                          NaN         NaN          NaN          NaN   \n",
      "1048573                          NaN         NaN          NaN          NaN   \n",
      "1048574                          NaN         NaN          NaN          NaN   \n",
      "\n",
      "         Unnamed: 19  \n",
      "0                1.0  \n",
      "1                0.0  \n",
      "2                1.0  \n",
      "3                0.0  \n",
      "4                0.0  \n",
      "...              ...  \n",
      "1048570          0.0  \n",
      "1048571          0.0  \n",
      "1048572          0.0  \n",
      "1048573          0.0  \n",
      "1048574          0.0  \n",
      "\n",
      "[1048575 rows x 20 columns]\n",
      "\n",
      "                Year          Month            Day       Latitude  \\\n",
      "count  181691.000000  181691.000000  181691.000000  177135.000000   \n",
      "mean     2002.638997       6.467277      15.505644      23.498343   \n",
      "std        13.259430       3.388303       8.814045      18.569242   \n",
      "min      1970.000000       0.000000       0.000000     -53.154613   \n",
      "25%      1991.000000       4.000000       8.000000      11.510046   \n",
      "50%      2009.000000       6.000000      15.000000      31.467463   \n",
      "75%      2014.000000       9.000000      23.000000      34.685087   \n",
      "max      2017.000000      12.000000      31.000000      74.633553   \n",
      "\n",
      "          Longitude         Killed        Wounded  Unnamed: 17  Unnamed: 18  \\\n",
      "count  1.771340e+05  171378.000000  165380.000000          0.0          0.0   \n",
      "mean  -4.586957e+02       2.403272       3.167668          NaN          NaN   \n",
      "std    2.047790e+05      11.545741      35.949392          NaN          NaN   \n",
      "min   -8.618590e+07       0.000000       0.000000          NaN          NaN   \n",
      "25%    4.545640e+00       0.000000       0.000000          NaN          NaN   \n",
      "50%    4.324651e+01       0.000000       0.000000          NaN          NaN   \n",
      "75%    6.871033e+01       2.000000       2.000000          NaN          NaN   \n",
      "max    1.793667e+02    1570.000000    8191.000000          NaN          NaN   \n",
      "\n",
      "        Unnamed: 19  \n",
      "count  1.048575e+06  \n",
      "mean   8.923892e-01  \n",
      "std    1.699381e+01  \n",
      "min    0.000000e+00  \n",
      "25%    0.000000e+00  \n",
      "50%    0.000000e+00  \n",
      "75%    0.000000e+00  \n",
      "max    9.574000e+03  \n"
     ]
    }
   ],
   "source": [
    "## Open and read data file as specified in the question\n",
    "## Print the required output in given format\n",
    "import pandas as pd\n",
    "data=pd.read_csv(\"terrorismData.csv\")\n",
    "\n",
    "print(data)\n",
    "print()\n",
    "print(data.describe())\n"
   ]
  },
  {
   "cell_type": "markdown",
   "id": "fee5d7c1",
   "metadata": {},
   "source": [
    "### city"
   ]
  },
  {
   "cell_type": "code",
   "execution_count": 38,
   "id": "6b5d36c3",
   "metadata": {},
   "outputs": [
    {
     "name": "stdout",
     "output_type": "stream",
     "text": [
      "count          983\n",
      "unique         277\n",
      "top       Srinagar\n",
      "freq           351\n",
      "Name: City, dtype: object\n",
      "\n",
      "Srinagar\n"
     ]
    }
   ],
   "source": [
    "\n",
    "data2=data[data[\"State\"]=='Jammu and Kashmir']\n",
    "#print(data2)\n",
    "data2=data2[data2['Group']!='Unknown']\n",
    "\n",
    "#print(data2.City)\n",
    "\n",
    "\n",
    "#print(data2.City)\n",
    "\n",
    "\n",
    "print(data2.City.describe())\n",
    "# for ele in data2.City.unique():\n",
    "#     if ele!='Unknown':\n",
    "#         print(ele)\n",
    "\n",
    "#print(data2.describe())\n",
    "print()\n",
    "print(data2.City.describe().top)\n"
   ]
  },
  {
   "cell_type": "markdown",
   "id": "76ec3ac1",
   "metadata": {},
   "source": [
    "### no of attack"
   ]
  },
  {
   "cell_type": "code",
   "execution_count": 44,
   "id": "a5685883",
   "metadata": {},
   "outputs": [
    {
     "name": "stdout",
     "output_type": "stream",
     "text": [
      "351\n"
     ]
    }
   ],
   "source": [
    "print(data2.City.describe().freq)"
   ]
  },
  {
   "cell_type": "markdown",
   "id": "c929f81c",
   "metadata": {},
   "source": [
    "### group"
   ]
  },
  {
   "cell_type": "code",
   "execution_count": 39,
   "id": "71139caa",
   "metadata": {},
   "outputs": [
    {
     "name": "stdout",
     "output_type": "stream",
     "text": [
      "count                    351\n",
      "unique                    48\n",
      "top       Muslim Separatists\n",
      "freq                      55\n",
      "Name: Group, dtype: object\n",
      "\n",
      "Muslim Separatists\n"
     ]
    }
   ],
   "source": [
    "\n",
    "data3=data2[data2[\"City\"]=='Srinagar']\n",
    "\n",
    "data3=data3[data3['Group']!='Unknown']\n",
    "a=data3.Group.describe()\n",
    "print(a)\n",
    "\n",
    "print()\n",
    "print(a.top)"
   ]
  },
  {
   "attachments": {
    "ques1.png": {
     "image/png": "[encoded data removed]"
    }
   },
   "cell_type": "markdown",
   "id": "f0a4894f",
   "metadata": {},
   "source": [
    "![ques1.png](attachment:ques1.png)"
   ]
  },
  {
   "cell_type": "markdown",
   "id": "a9e90ad0",
   "metadata": {},
   "source": [
    "# Ques2"
   ]
  },
  {
   "cell_type": "code",
   "execution_count": null,
   "id": "a81a4b9f",
   "metadata": {},
   "outputs": [],
   "source": [
    "Terror Government\n",
    "Send Feedback\n",
    "Given file \"terrorismData.csv\"\n",
    "It is an open-source database including information on terrorist attacks around the world from 1970 through 2017. This dataset includes systematic data on domestic as well as international terrorist incidents that have occurred during this time period\n",
    "Problem Statement :\n",
    "There was formation of new government in India on 26 May 2014. So current government's span is from 26th May 2014 to current. Find out two things from this period-\n",
    "1. Total number of attacks done in this period in India. Find this count as integer.\n",
    "2. Which Terrorist group was most active in this period in India. Most active means, group which has done maximum number of attacks. \n",
    "3.Ignore the Unknown group. \n",
    "Output Format :\n",
    "TotalAttacks MostActiveTerroristGroup"
   ]
  },
  {
   "cell_type": "code",
   "execution_count": 118,
   "id": "80100a6f",
   "metadata": {},
   "outputs": [
    {
     "name": "stderr",
     "output_type": "stream",
     "text": [
      "C:\\Users\\91956\\anaconda3\\lib\\site-packages\\IPython\\core\\interactiveshell.py:3165: DtypeWarning: Columns (3,4,5,6,9,12,13,14,15,16) have mixed types.Specify dtype option on import or set low_memory=False.\n",
      "  has_raised = await self.run_ast_nodes(code_ast.body, cell_name,\n"
     ]
    },
    {
     "name": "stdout",
     "output_type": "stream",
     "text": [
      "3336 Maoists\n"
     ]
    }
   ],
   "source": [
    "import pandas as pd\n",
    "df = pd.read_csv(\"terrorismData.csv\")\n",
    "df = df[df.Country==\"India\"]\n",
    "df = df[df.Year>=2014]\n",
    "index1 = df[(df.Year==2014) & (df.Month < 5)].index\n",
    "index2 = df[(df.Year==2014) & (df.Month==5) & (df.Day < 26)].index\n",
    "\n",
    "#print(df)\n",
    "df.drop(index1,inplace=True) #removes those rows.\n",
    "df.drop(index2,inplace=True) #removes those rows.\n",
    "\n",
    "attack = df.shape[0] #no. of rows\n",
    "df =df[df.Group!=\"Unknown\"]\n",
    "group = df.Group.describe().top\n",
    "print(attack,group)\n",
    "\n",
    "\n",
    "\n",
    "\n"
   ]
  },
  {
   "cell_type": "markdown",
   "id": "161f377c",
   "metadata": {},
   "source": [
    "\n",
    "# Ques 3"
   ]
  },
  {
   "cell_type": "code",
   "execution_count": null,
   "id": "a30135b9",
   "metadata": {},
   "outputs": [],
   "source": [
    "Terror Frequency\n",
    "Send Feedback\n",
    "Given file \"terrorismData.csv\"\n",
    "It is an open-source database including information on terrorist attacks around the world from 1970 through 2017. This dataset includes systematic data on domestic as well as international terrorist incidents that have occurred during this time period\n",
    "Problem Statement :\n",
    "Find the frequency of the Casualty in Red Corridor states and in Jammu and Kashmir ?Here Frequency is (Total Casualty/Total Number of a year)\n",
    "Print frequency as integer value.\n",
    "Note:Red Corridor state includes Jharkhand, Odisha, Andhra Pradesh, and Chhattisgarh. Here Casualty=Killed +Wounded.Don't fill the nan value present in Killed and Wounded feature.\n",
    "Output Format :\n",
    "Frequency1 Frequency2 "
   ]
  },
  {
   "cell_type": "markdown",
   "id": "ecb0ea9c",
   "metadata": {},
   "source": [
    "# Solution"
   ]
  },
  {
   "cell_type": "markdown",
   "id": "936fde02",
   "metadata": {},
   "source": [
    "### My"
   ]
  },
  {
   "cell_type": "code",
   "execution_count": 3,
   "id": "20a232f6",
   "metadata": {},
   "outputs": [
    {
     "name": "stdout",
     "output_type": "stream",
     "text": [
      "113.5 255.58333333333334\n"
     ]
    }
   ],
   "source": [
    "## Open and read data file as specified in the question\n",
    "## Print the required output in given format\n",
    "import pandas as pd\n",
    "data=pd.read_csv(\"terrorismData.csv\")\n",
    "\n",
    "redc=data[ (data[\"State\"]==\"Jharkhand\") | (data[\"State\"]==\"Odisha\") | (data[\"State\"]==\"Andhra Pradesh\")|\n",
    "          (data[\"State\"]==\"Chhattisgarh\")]\n",
    "\n",
    "\n",
    "redc_cas=redc.Killed+redc.Wounded\n",
    "\n",
    "redc_cas=redc_cas.sum()#total sum of wounded+casualties.\n",
    "years_muskan_mam=48#redc.Year.iloc[redc.shape[0]-1]-redc.Year.iloc[0] #diff of years\n",
    "\n",
    "\n",
    "\n",
    "#years_muskan_mam=len(set(data['Year']))\n",
    "ans=redc_cas/years_muskan_mam# freq of cas for red corridor states\n",
    "\n",
    "\n",
    "\n",
    "jc=data[data[\"State\"]==\"Jammu and Kashmir\"]\n",
    "\n",
    "jc_cas=jc.Killed+jc.Wounded\n",
    "jc_cas=jc_cas.sum()\n",
    "years2=jc.Year.iloc[jc.shape[0]-1]-jc.Year.iloc[0]\n",
    "ans2=jc_cas/years_muskan_mam# freq for j and k\n",
    "\n",
    "print(ans,ans2)\n",
    "\n",
    "\n",
    "\n",
    "\n"
   ]
  },
  {
   "cell_type": "markdown",
   "id": "b03b4639",
   "metadata": {},
   "source": [
    "### Muskan Mam"
   ]
  },
  {
   "cell_type": "code",
   "execution_count": 1,
   "id": "ab2c688a",
   "metadata": {},
   "outputs": [
    {
     "name": "stderr",
     "output_type": "stream",
     "text": [
      "C:\\Users\\91956\\anaconda3\\lib\\site-packages\\IPython\\core\\interactiveshell.py:3165: DtypeWarning: Columns (3,4,5,6,9,12,13,14,15,16) have mixed types.Specify dtype option on import or set low_memory=False.\n",
      "  has_raised = await self.run_ast_nodes(code_ast.body, cell_name,\n"
     ]
    },
    {
     "name": "stdout",
     "output_type": "stream",
     "text": [
      "113 255\n",
      "48\n"
     ]
    }
   ],
   "source": [
    "import pandas as pd\n",
    "import numpy as np\n",
    "\n",
    "df_terrorism=pd.read_csv('terrorismData.csv')\n",
    "year=len((df_terrorism.Year.unique()))\n",
    "\n",
    "\n",
    "\n",
    "df_terrorism=df_terrorism[df_terrorism['Country']=='India']\n",
    "df_terrorism['Casualty']=df_terrorism['Killed']+df_terrorism['Wounded']\n",
    "\n",
    "Jammu_state=df_terrorism[df_terrorism['State']=='Jammu and Kashmir']\n",
    "\n",
    "red_state=df_terrorism[(df_terrorism['State']=='Jharkhand')|(df_terrorism['State']=='Odisha')\n",
    " |(df_terrorism['State']=='Andhra Pradesh')|(df_terrorism['State']=='Chhattisgarh')]\n",
    "\n",
    "red_casualty=int(np.sum(red_state['Casualty']))\n",
    "Jammu_casualty=int(np.sum(Jammu_state['Casualty']))\n",
    "print(red_casualty//year,Jammu_casualty//year)\n",
    "\n",
    "#print(year)\n",
    "\n"
   ]
  },
  {
   "cell_type": "markdown",
   "id": "ec3ec1a7",
   "metadata": {},
   "source": [
    "# Ques4"
   ]
  },
  {
   "cell_type": "code",
   "execution_count": null,
   "id": "e4cdc8c6",
   "metadata": {},
   "outputs": [],
   "source": [
    "Terror DeadliestAttack\n",
    "Send Feedback\n",
    "Given file \"terrorismData.csv\"\n",
    "It is an open-source database including information on terrorist attacks around the world from 1970 through 2017. This dataset includes systematic data on domestic as well as international terrorist incidents that have occurred during this time period\n",
    "Problem Statement :\n",
    "Most Deadliest attack in a history of HumanKind?\n",
    "Print count of Killed people as integer value.\n",
    "Note: Here Deadliest attack means, in which the most number of people killed.\n",
    "Output Format :\n",
    "NumberOfPeopleKilled Country TerroristGroup"
   ]
  },
  {
   "cell_type": "code",
   "execution_count": 15,
   "id": "f3251590",
   "metadata": {},
   "outputs": [
    {
     "name": "stderr",
     "output_type": "stream",
     "text": [
      "C:\\Users\\91956\\anaconda3\\lib\\site-packages\\IPython\\core\\interactiveshell.py:3165: DtypeWarning: Columns (3,4,5,6,9,12,13,14,15,16) have mixed types.Specify dtype option on import or set low_memory=False.\n",
      "  has_raised = await self.run_ast_nodes(code_ast.body, cell_name,\n"
     ]
    },
    {
     "name": "stdout",
     "output_type": "stream",
     "text": [
      "1570.0 Iraq Islamic State of Iraq and the Levant (ISIL)\n"
     ]
    }
   ],
   "source": [
    "## Open and read data file as specified in the question\n",
    "## Print the required output in given format\n",
    "import pandas as pd\n",
    "data=pd.read_csv(\"terrorismData.csv\")\n",
    "\n",
    "data=data[data['Group']!='Unknown']\n",
    "\n",
    "maxkilled=data.Killed.max()\n",
    "\n",
    "max_kill_row=data[data.Killed==maxkilled]\n",
    "\n",
    "print(int(max_kill_row.Killed.iloc[0]),max_kill_row.Country.iloc[0],max_kill_row.Group.iloc[0])\n",
    "\n"
   ]
  },
  {
   "cell_type": "markdown",
   "id": "13f406f7",
   "metadata": {},
   "source": [
    "# Ques5"
   ]
  },
  {
   "cell_type": "code",
   "execution_count": null,
   "id": "3ea81bab",
   "metadata": {},
   "outputs": [],
   "source": [
    "Terror Attack\n",
    "Send Feedback\n",
    "Given file \"terrorismData.csv\"\n",
    "It is an open-source database including information on terrorist attacks around the world from 1970 through 2017. This dataset includes systematic data on domestic as well as international terrorist incidents that have occurred during this time period\n",
    "Problem Statement :\n",
    "Find out the Country with Highest Number of Terror Attack and in which year the most number of terrorist attack happened in that country ?\n",
    "Print count of terror attacks as integer value.\n",
    "Output Format :\n",
    "Country NumberOfAttack Year"
   ]
  },
  {
   "cell_type": "code",
   "execution_count": 68,
   "id": "95c6f86d",
   "metadata": {},
   "outputs": [
    {
     "name": "stderr",
     "output_type": "stream",
     "text": [
      "C:\\Users\\91956\\anaconda3\\lib\\site-packages\\IPython\\core\\interactiveshell.py:3165: DtypeWarning: Columns (3,4,5,6,9,12,13,14,15,16) have mixed types.Specify dtype option on import or set low_memory=False.\n",
      "  has_raised = await self.run_ast_nodes(code_ast.body, cell_name,\n"
     ]
    },
    {
     "name": "stdout",
     "output_type": "stream",
     "text": [
      "Iraq                24636\n",
      "Pakistan            14368\n",
      "Afghanistan         12731\n",
      "India               11960\n",
      "Colombia             8306\n",
      "                    ...  \n",
      "International           1\n",
      "St. Lucia               1\n",
      "Vatican City            1\n",
      "Falkland Islands        1\n",
      "Andorra                 1\n",
      "Name: Country, Length: 205, dtype: int64\n"
     ]
    }
   ],
   "source": [
    "## Open and read data file as specified in the question\n",
    "## Print the required output in given format\n",
    "## Open and read data file as specified in the question\n",
    "## Print the required output in given format\n",
    "import pandas as pd\n",
    "data=pd.read_csv(\"terrorismData.csv\")\n",
    "\n",
    "#data=data[data['Group']!='Unknown']\n",
    "\n",
    "data2=data.Country\n",
    "\n",
    "countrywise=data2.value_counts()\n",
    "\n",
    "print(countrywise)\n",
    "\n",
    "# Here afghanistan,,,,etc is index."
   ]
  },
  {
   "cell_type": "code",
   "execution_count": 69,
   "id": "01c81f3e",
   "metadata": {},
   "outputs": [
    {
     "name": "stdout",
     "output_type": "stream",
     "text": [
      "Iraq\n",
      "24636\n"
     ]
    }
   ],
   "source": [
    "maxval=countrywise.max()\n",
    "ans=countrywise[countrywise[countrywise.index]==maxval]\n",
    "print(ans.index[0]) #max attack country\n",
    "print(ans[0])#no of attack"
   ]
  },
  {
   "cell_type": "code",
   "execution_count": 70,
   "id": "4254f0d5",
   "metadata": {},
   "outputs": [
    {
     "name": "stdout",
     "output_type": "stream",
     "text": [
      "2014.0\n"
     ]
    }
   ],
   "source": [
    "countrydata=data[data[\"Country\"]==ans.index[0]]\n",
    "#countrydata\n",
    "\n",
    "year=countrydata.Year\n",
    "\n",
    "yearwise=year.value_counts()\n",
    "\n",
    "#yearwise\n",
    "\n",
    "max_year=yearwise.max()\n",
    "max_year_data=yearwise[yearwise[yearwise.index]==max_year]\n",
    "\n",
    "print(max_year_data.index[0])\n",
    "\n"
   ]
  },
  {
   "cell_type": "code",
   "execution_count": null,
   "id": "8273d016",
   "metadata": {},
   "outputs": [],
   "source": []
  },
  {
   "cell_type": "code",
   "execution_count": null,
   "id": "25749c4e",
   "metadata": {},
   "outputs": [],
   "source": []
  },
  {
   "cell_type": "code",
   "execution_count": null,
   "id": "52bd9f75",
   "metadata": {},
   "outputs": [],
   "source": []
  },
  {
   "cell_type": "code",
   "execution_count": null,
   "id": "8e3f0de7",
   "metadata": {},
   "outputs": [],
   "source": []
  },
  {
   "cell_type": "code",
   "execution_count": null,
   "id": "bcbaed11",
   "metadata": {},
   "outputs": [],
   "source": []
  },
  {
   "cell_type": "code",
   "execution_count": null,
   "id": "25130e16",
   "metadata": {},
   "outputs": [],
   "source": []
  },
  {
   "cell_type": "code",
   "execution_count": null,
   "id": "453966cc",
   "metadata": {},
   "outputs": [],
   "source": []
  }
 ],
 "metadata": {
  "kernelspec": {
   "display_name": "Python 3",
   "language": "python",
   "name": "python3"
  },
  "language_info": {
   "codemirror_mode": {
    "name": "ipython",
    "version": 3
   },
   "file_extension": ".py",
   "mimetype": "text/x-python",
   "name": "python",
   "nbconvert_exporter": "python",
   "pygments_lexer": "ipython3",
   "version": "3.8.8"
  }
 },
 "nbformat": 4,
 "nbformat_minor": 5
}
